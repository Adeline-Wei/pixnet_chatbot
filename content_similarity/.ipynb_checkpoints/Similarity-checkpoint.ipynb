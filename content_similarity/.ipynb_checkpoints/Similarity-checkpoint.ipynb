{
 "cells": [
  {
   "cell_type": "code",
   "execution_count": 1,
   "metadata": {},
   "outputs": [
    {
     "name": "stdout",
     "output_type": "stream",
     "text": [
      "['NullHandler', '__builtins__', '__cached__', '__doc__', '__file__', '__loader__', '__name__', '__package__', '__path__', '__spec__', '__version__', 'corpora', 'interfaces', 'logger', 'logging', 'matutils', 'models', 'parsing', 'scripts', 'similarities', 'summarization', 'topic_coherence', 'utils']\n"
     ]
    }
   ],
   "source": [
    "import os\n",
    "import jieba\n",
    "jieba.set_dictionary('dict.txt.big')\n",
    "import gensim\n",
    "print(dir(gensim))"
   ]
  },
  {
   "cell_type": "code",
   "execution_count": 2,
   "metadata": {
    "collapsed": true
   },
   "outputs": [],
   "source": [
    "from elasticsearch import Elasticsearch\n",
    "import elasticsearch.helpers\n",
    "from datetime import datetime\n",
    "\n",
    "es = Elasticsearch([{'host': 'localhost', 'port': 9200}])"
   ]
  },
  {
   "cell_type": "code",
   "execution_count": 3,
   "metadata": {
    "scrolled": false
   },
   "outputs": [
    {
     "data": {
      "text/plain": [
       "{'_id': '2',\n",
       " '_index': 'pixnet',\n",
       " '_source': {'article_id': '173798940',\n",
       "  'author': 'a221740',\n",
       "  'category': '美味食記',\n",
       "  'comment_count': 4,\n",
       "  'comment_ids': ['b123456382', 'eva198306', 'wanglin420704', 'K1205K1205'],\n",
       "  'content': '我搬家了！請點這裡繼續(工具邦 技術提供)\\n我搬家了！請點這裡繼續\\n(這裡只有摘要)閱讀全文 ➜ 105.12.19更新。淡水信義線/淡水-象山\\n●捷運美食地圖推薦●\\xa0捷運紅線:象山-北投 美食懶人包，點標題直接進文章\\n↓↓最新整理台北捷運美食懶人包連結\\xa0↓↓\\xa0\\n*單線捷運站名快速懶人包*\\xa0\\xa0\\n藍色-板南線│紅色-淡水信義線│棕色-文山內湖線│綠色-松山新店線\\xa0│橘色-中和蘆湖線\\n\\n',\n",
       "  'hits': 52089,\n",
       "  'post_at': 1475484817,\n",
       "  'post_date': '2016-10-03T16:53:37+08:00',\n",
       "  'tags': ['台北捷運美食地圖推薦-紅色',\n",
       "   '捷運新北投支線 信義線',\n",
       "   '捷運紅線 淡水信義線',\n",
       "   '淡水信義線 淡水-象山',\n",
       "   '捷運紅線美食推薦',\n",
       "   '捷運紅線餐廳推薦'],\n",
       "  'title': '<捷運紅線美食懶人包>105.12.19更新。淡水信義線/淡水-象山',\n",
       "  'url': 'http://piliapp-mapping.jennifer4.com/blog/post/173798940'},\n",
       " '_type': 'food',\n",
       " '_version': 1,\n",
       " 'found': True}"
      ]
     },
     "execution_count": 3,
     "metadata": {},
     "output_type": "execute_result"
    }
   ],
   "source": [
    "es.get(index=\"pixnet\", doc_type='food', id=2)"
   ]
  },
  {
   "cell_type": "code",
   "execution_count": 4,
   "metadata": {
    "collapsed": true
   },
   "outputs": [],
   "source": [
    "def replace_content(content):\n",
    "    res = content.replace('\\n',' ') # replace \\n\n",
    "    return res"
   ]
  },
  {
   "cell_type": "code",
   "execution_count": 6,
   "metadata": {},
   "outputs": [],
   "source": [
    "# folder = '../data/article'\n",
    "# file_list = [file_name.split('.')[0] for file_name in os.listdir(folder)]\n",
    "\n",
    "# for each_file in file_list:\n",
    "\n",
    "# res = es.search(index=\"pixnet\", doc_type='food', body={\"query\": {\"match_all\": {}}})\n",
    "# print(\"Food %d Hits:\" % res['hits']['total'])\n",
    "# total_content = [replace_content(hit['_source'].get('content')) for hit in res['hits']['hits']]\n",
    "# print(len(total_content))"
   ]
  },
  {
   "cell_type": "code",
   "execution_count": 9,
   "metadata": {},
   "outputs": [
    {
     "name": "stdout",
     "output_type": "stream",
     "text": [
      "9597\n"
     ]
    }
   ],
   "source": [
    "docs = list(elasticsearch.helpers.scan(es, index=\"pixnet\", doc_type='food'))\n",
    "total_content = [replace_content(doc['_source'].get('content')) for doc in docs]\n",
    "print(len(total_content))"
   ]
  },
  {
   "cell_type": "code",
   "execution_count": 10,
   "metadata": {},
   "outputs": [
    {
     "name": "stdout",
     "output_type": "stream",
     "text": [
      "週末假日，大伙都去大溪老街人擠人，其實一旁也有不錯的咖啡廳，人沒那麼多，咖啡又不錯喝，在這消磨一下午時光也不錯，就是位在巷子內的 倉庫咖啡～   more 倉庫咖啡本來在桃園市，後來才搬到這。   店裏的老板很有個性，看來不太愛笑，不過咖啡倒是煮的不錯。            家人不太愛喝咖啡，點了櫻桃蘭姆＄160、莓果森林＄160  Meiko點了蜂蜜杏仁核桃塔＄100 + 黑糖卡布$140  黑糖卡布其實大方之前在永和四號公園有喝過，所以對大方來說也不是新玩意了，不過這的黑糖卡布像是精緻版的，奶泡打的更為綿密，咖啡也很好喝。  蜂蜜杏仁核桃塔，核桃塔挺扎實的，口感跟香氣也夠，帶點蜂蜜香，好吃，應該是手工製作的吧。  盆栽奶茶$160，這個早在台北Season就品嚐過了，可惜 Season的味道更勝一點，不過此處在桃園，喝這倒也不錯啦。   倉庫咖啡WareHouse Cafe 電話：03-387-4385 地址：桃園縣大溪鎮中山路43號 營業：13:00-18:00(周一公休) 延伸閱讀：[桃園] 大溪 韓鄉石頭火鍋 @ 30年傳統老店，想念的好味道～[桃園] 大溪 江家古早味花生糖 @ 大溪老街必買伴手禮、超好吃排隊人氣美食推薦～[桃園] 桃園白木屋旗艦店 La WISH 餐廳 @ CP值高的排餐～[桃園] 香草蛋糕舖 @ 好吃的手工蛋糕～[桃園] 豆舖咖啡 @ 原豆烘培、咖啡飄香[桃園] 野上麵包 @ 採用日本材料的好吃麵包啊～[桃園] 燊咖啡 @ 自家遠紅外線烘焙咖啡，醇香好喝～[桃園] 阿月食堂 @ 很驚訝，桃園也有這麼好的台南府城小吃～[桃園] 大溪 賴 祖傳豆花 @ 媽呀，怎麼有這麼好吃的豆花呀~~[桃園] 大溪TINA廚房、蕃薯藤有機烘培坊 @ 好吃CP值高的用餐，健康的麵包[桃園] 大溪 TINA COFFEE @ 好吃的下午茶，很棒的室外草原[桃園] 大溪老街 @ 好吃的黃日香豆干、特別的黑心肝飲料、讚不絕口的芋簽包 [桃園] 大溪山水。田園餐廳 @ 台式精綎好料理。好吃好吃\n"
     ]
    }
   ],
   "source": [
    "print(total_content[0])"
   ]
  },
  {
   "cell_type": "code",
   "execution_count": null,
   "metadata": {},
   "outputs": [
    {
     "name": "stderr",
     "output_type": "stream",
     "text": [
      "Building prefix dict from /home/yenhao/Documents/pixnet/content_similarity/dict.txt.big ...\n",
      "Dumping model to file cache /tmp/jieba.udc5b53799b274553d7fa5513aaa11a93.cache\n",
      "Loading model cost 3.070 seconds.\n",
      "Prefix dict has been built succesfully.\n"
     ]
    }
   ],
   "source": [
    "def jieba_tokenize(content):\n",
    "    return list(filter(None, jieba.cut(content, cut_all=True)))\n",
    "total_word_list = [jieba_tokenize(content) for content in total_content]"
   ]
  },
  {
   "cell_type": "code",
   "execution_count": null,
   "metadata": {},
   "outputs": [],
   "source": [
    "len(total_word_list)"
   ]
  },
  {
   "cell_type": "code",
   "execution_count": null,
   "metadata": {},
   "outputs": [],
   "source": [
    "dictionary = gensim.corpora.Dictionary(total_word_list)\n",
    "print(dictionary[5])\n",
    "print(dictionary.token2id['週末'])\n",
    "print(\"Number of words in dictionary:\",len(dictionary))"
   ]
  },
  {
   "cell_type": "code",
   "execution_count": null,
   "metadata": {
    "collapsed": true
   },
   "outputs": [],
   "source": [
    "corpus = [dictionary.doc2bow(doc) for doc in total_word_list]"
   ]
  },
  {
   "cell_type": "code",
   "execution_count": null,
   "metadata": {},
   "outputs": [],
   "source": [
    "tf_idf = gensim.models.TfidfModel(corpus)\n",
    "print(tf_idf)"
   ]
  },
  {
   "cell_type": "code",
   "execution_count": null,
   "metadata": {},
   "outputs": [],
   "source": [
    "sims = gensim.similarities.Similarity('/tmp/tst',tf_idf[corpus],\n",
    "                                      num_features=len(dictionary))\n",
    "print(sims)"
   ]
  },
  {
   "cell_type": "code",
   "execution_count": null,
   "metadata": {},
   "outputs": [],
   "source": [
    "text = '好想去大溪老街阿！'\n",
    "query_doc = jieba_tokenize(text)\n",
    "print(query_doc)\n",
    "query_doc_bow = dictionary.doc2bow(query_doc)\n",
    "print(query_doc_bow)\n",
    "query_doc_tf_idf = tf_idf[query_doc_bow]\n",
    "print(query_doc_tf_idf)"
   ]
  },
  {
   "cell_type": "code",
   "execution_count": 90,
   "metadata": {},
   "outputs": [
    {
     "data": {
      "text/plain": [
       "array([ 0.35152179,  0.00574281,  0.00532033,  0.07010693,  0.00071156,\n",
       "        0.02465617,  0.00726696,  0.        ,  0.00112696,  0.00067578], dtype=float32)"
      ]
     },
     "execution_count": 90,
     "metadata": {},
     "output_type": "execute_result"
    }
   ],
   "source": [
    "sims[query_doc_tf_idf]"
   ]
  },
  {
   "cell_type": "code",
   "execution_count": null,
   "metadata": {
    "collapsed": true
   },
   "outputs": [],
   "source": []
  }
 ],
 "metadata": {
  "kernelspec": {
   "display_name": "Python 3",
   "language": "python",
   "name": "python3"
  },
  "language_info": {
   "codemirror_mode": {
    "name": "ipython",
    "version": 3
   },
   "file_extension": ".py",
   "mimetype": "text/x-python",
   "name": "python",
   "nbconvert_exporter": "python",
   "pygments_lexer": "ipython3",
   "version": "3.5.2"
  }
 },
 "nbformat": 4,
 "nbformat_minor": 2
}

{
 "cells": [
  {
   "cell_type": "code",
   "execution_count": 28,
   "metadata": {},
   "outputs": [
    {
     "name": "stdout",
     "output_type": "stream",
     "text": [
      "['NullHandler', '__builtins__', '__cached__', '__doc__', '__file__', '__loader__', '__name__', '__package__', '__path__', '__spec__', '__version__', 'corpora', 'interfaces', 'logger', 'logging', 'matutils', 'models', 'parsing', 'scripts', 'similarities', 'summarization', 'topic_coherence', 'utils']\n"
     ]
    }
   ],
   "source": [
    "import os\n",
    "import numpy as np\n",
    "import jieba\n",
    "jieba.set_dictionary('dict.txt.big')\n",
    "import gensim\n",
    "print(dir(gensim))"
   ]
  },
  {
   "cell_type": "code",
   "execution_count": 2,
   "metadata": {
    "collapsed": true
   },
   "outputs": [],
   "source": [
    "from elasticsearch import Elasticsearch\n",
    "import elasticsearch.helpers\n",
    "from datetime import datetime\n",
    "\n",
    "es = Elasticsearch([{'host': 'localhost', 'port': 9200}])"
   ]
  },
  {
   "cell_type": "code",
   "execution_count": 3,
   "metadata": {
    "scrolled": false
   },
   "outputs": [
    {
     "data": {
      "text/plain": [
       "{'_id': '2',\n",
       " '_index': 'pixnet',\n",
       " '_source': {'article_id': '173798940',\n",
       "  'author': 'a221740',\n",
       "  'category': '美味食記',\n",
       "  'comment_count': 4,\n",
       "  'comment_ids': ['b123456382', 'eva198306', 'wanglin420704', 'K1205K1205'],\n",
       "  'content': '我搬家了！請點這裡繼續(工具邦 技術提供)\\n我搬家了！請點這裡繼續\\n(這裡只有摘要)閱讀全文 ➜ 105.12.19更新。淡水信義線/淡水-象山\\n●捷運美食地圖推薦●\\xa0捷運紅線:象山-北投 美食懶人包，點標題直接進文章\\n↓↓最新整理台北捷運美食懶人包連結\\xa0↓↓\\xa0\\n*單線捷運站名快速懶人包*\\xa0\\xa0\\n藍色-板南線│紅色-淡水信義線│棕色-文山內湖線│綠色-松山新店線\\xa0│橘色-中和蘆湖線\\n\\n',\n",
       "  'hits': 52089,\n",
       "  'post_at': 1475484817,\n",
       "  'post_date': '2016-10-03T16:53:37+08:00',\n",
       "  'tags': ['台北捷運美食地圖推薦-紅色',\n",
       "   '捷運新北投支線 信義線',\n",
       "   '捷運紅線 淡水信義線',\n",
       "   '淡水信義線 淡水-象山',\n",
       "   '捷運紅線美食推薦',\n",
       "   '捷運紅線餐廳推薦'],\n",
       "  'title': '<捷運紅線美食懶人包>105.12.19更新。淡水信義線/淡水-象山',\n",
       "  'url': 'http://piliapp-mapping.jennifer4.com/blog/post/173798940'},\n",
       " '_type': 'food',\n",
       " '_version': 1,\n",
       " 'found': True}"
      ]
     },
     "execution_count": 3,
     "metadata": {},
     "output_type": "execute_result"
    }
   ],
   "source": [
    "es.get(index=\"pixnet\", doc_type='food', id=2)"
   ]
  },
  {
   "cell_type": "code",
   "execution_count": 4,
   "metadata": {
    "collapsed": true
   },
   "outputs": [],
   "source": [
    "def replace_content(content):\n",
    "    res = content.replace('\\n',' ') # replace \\n\n",
    "    return res"
   ]
  },
  {
   "cell_type": "code",
   "execution_count": 6,
   "metadata": {},
   "outputs": [],
   "source": [
    "# folder = '../data/article'\n",
    "# file_list = [file_name.split('.')[0] for file_name in os.listdir(folder)]\n",
    "\n",
    "# for each_file in file_list:\n",
    "\n",
    "# res = es.search(index=\"pixnet\", doc_type='food', body={\"query\": {\"match_all\": {}}})\n",
    "# print(\"Food %d Hits:\" % res['hits']['total'])\n",
    "# total_content = [replace_content(hit['_source'].get('content')) for hit in res['hits']['hits']]\n",
    "# print(len(total_content))"
   ]
  },
  {
   "cell_type": "code",
   "execution_count": 9,
   "metadata": {},
   "outputs": [
    {
     "name": "stdout",
     "output_type": "stream",
     "text": [
      "9597\n"
     ]
    }
   ],
   "source": [
    "docs = list(elasticsearch.helpers.scan(es, index=\"pixnet\", doc_type='food'))\n",
    "total_content = [replace_content(doc['_source'].get('content')) for doc in docs]\n",
    "print(len(total_content))"
   ]
  },
  {
   "cell_type": "code",
   "execution_count": 10,
   "metadata": {},
   "outputs": [
    {
     "name": "stdout",
     "output_type": "stream",
     "text": [
      "週末假日，大伙都去大溪老街人擠人，其實一旁也有不錯的咖啡廳，人沒那麼多，咖啡又不錯喝，在這消磨一下午時光也不錯，就是位在巷子內的 倉庫咖啡～   more 倉庫咖啡本來在桃園市，後來才搬到這。   店裏的老板很有個性，看來不太愛笑，不過咖啡倒是煮的不錯。            家人不太愛喝咖啡，點了櫻桃蘭姆＄160、莓果森林＄160  Meiko點了蜂蜜杏仁核桃塔＄100 + 黑糖卡布$140  黑糖卡布其實大方之前在永和四號公園有喝過，所以對大方來說也不是新玩意了，不過這的黑糖卡布像是精緻版的，奶泡打的更為綿密，咖啡也很好喝。  蜂蜜杏仁核桃塔，核桃塔挺扎實的，口感跟香氣也夠，帶點蜂蜜香，好吃，應該是手工製作的吧。  盆栽奶茶$160，這個早在台北Season就品嚐過了，可惜 Season的味道更勝一點，不過此處在桃園，喝這倒也不錯啦。   倉庫咖啡WareHouse Cafe 電話：03-387-4385 地址：桃園縣大溪鎮中山路43號 營業：13:00-18:00(周一公休) 延伸閱讀：[桃園] 大溪 韓鄉石頭火鍋 @ 30年傳統老店，想念的好味道～[桃園] 大溪 江家古早味花生糖 @ 大溪老街必買伴手禮、超好吃排隊人氣美食推薦～[桃園] 桃園白木屋旗艦店 La WISH 餐廳 @ CP值高的排餐～[桃園] 香草蛋糕舖 @ 好吃的手工蛋糕～[桃園] 豆舖咖啡 @ 原豆烘培、咖啡飄香[桃園] 野上麵包 @ 採用日本材料的好吃麵包啊～[桃園] 燊咖啡 @ 自家遠紅外線烘焙咖啡，醇香好喝～[桃園] 阿月食堂 @ 很驚訝，桃園也有這麼好的台南府城小吃～[桃園] 大溪 賴 祖傳豆花 @ 媽呀，怎麼有這麼好吃的豆花呀~~[桃園] 大溪TINA廚房、蕃薯藤有機烘培坊 @ 好吃CP值高的用餐，健康的麵包[桃園] 大溪 TINA COFFEE @ 好吃的下午茶，很棒的室外草原[桃園] 大溪老街 @ 好吃的黃日香豆干、特別的黑心肝飲料、讚不絕口的芋簽包 [桃園] 大溪山水。田園餐廳 @ 台式精綎好料理。好吃好吃\n"
     ]
    }
   ],
   "source": [
    "print(total_content[0])"
   ]
  },
  {
   "cell_type": "code",
   "execution_count": 11,
   "metadata": {},
   "outputs": [
    {
     "name": "stderr",
     "output_type": "stream",
     "text": [
      "Building prefix dict from /home/yenhao/Documents/pixnet/content_similarity/dict.txt.big ...\n",
      "Dumping model to file cache /tmp/jieba.udc5b53799b274553d7fa5513aaa11a93.cache\n",
      "Loading model cost 3.070 seconds.\n",
      "Prefix dict has been built succesfully.\n"
     ]
    }
   ],
   "source": [
    "def jieba_tokenize(content):\n",
    "    return list(filter(None, jieba.cut(content, cut_all=True)))\n",
    "total_word_list = [jieba_tokenize(content) for content in total_content]"
   ]
  },
  {
   "cell_type": "code",
   "execution_count": 12,
   "metadata": {},
   "outputs": [
    {
     "data": {
      "text/plain": [
       "9597"
      ]
     },
     "execution_count": 12,
     "metadata": {},
     "output_type": "execute_result"
    }
   ],
   "source": [
    "len(total_word_list)"
   ]
  },
  {
   "cell_type": "code",
   "execution_count": 13,
   "metadata": {},
   "outputs": [
    {
     "name": "stdout",
     "output_type": "stream",
     "text": [
      "香草\n",
      "204\n",
      "Number of words in dictionary: 127306\n"
     ]
    }
   ],
   "source": [
    "dictionary = gensim.corpora.Dictionary(total_word_list)\n",
    "print(dictionary[5])\n",
    "print(dictionary.token2id['週末'])\n",
    "print(\"Number of words in dictionary:\",len(dictionary))"
   ]
  },
  {
   "cell_type": "code",
   "execution_count": 14,
   "metadata": {
    "collapsed": true
   },
   "outputs": [],
   "source": [
    "corpus = [dictionary.doc2bow(doc) for doc in total_word_list]"
   ]
  },
  {
   "cell_type": "code",
   "execution_count": 15,
   "metadata": {},
   "outputs": [
    {
     "name": "stdout",
     "output_type": "stream",
     "text": [
      "TfidfModel(num_docs=9597, num_nnz=5631623)\n"
     ]
    }
   ],
   "source": [
    "tf_idf = gensim.models.TfidfModel(corpus)\n",
    "print(tf_idf)"
   ]
  },
  {
   "cell_type": "code",
   "execution_count": 16,
   "metadata": {},
   "outputs": [
    {
     "name": "stdout",
     "output_type": "stream",
     "text": [
      "Similarity index with 9597 documents in 0 shards (stored under /tmp/tst)\n"
     ]
    }
   ],
   "source": [
    "sims = gensim.similarities.Similarity('/tmp/tst',tf_idf[corpus],\n",
    "                                      num_features=len(dictionary))\n",
    "print(sims)"
   ]
  },
  {
   "cell_type": "code",
   "execution_count": 17,
   "metadata": {},
   "outputs": [
    {
     "name": "stdout",
     "output_type": "stream",
     "text": [
      "['好', '想去', '大溪', '老街', '阿']\n",
      "[(26, 1), (74, 1), (88, 1), (202, 1), (2084, 1)]\n",
      "[(26, 0.7096345505912937), (74, 0.1593507405540956), (88, 0.5107213200466937), (202, 0.023466828830910842), (2084, 0.4578637213039898)]\n"
     ]
    }
   ],
   "source": [
    "text = '好想去大溪老街阿！'\n",
    "query_doc = jieba_tokenize(text)\n",
    "print(query_doc)\n",
    "query_doc_bow = dictionary.doc2bow(query_doc)\n",
    "print(query_doc_bow)\n",
    "query_doc_tf_idf = tf_idf[query_doc_bow]\n",
    "print(query_doc_tf_idf)"
   ]
  },
  {
   "cell_type": "code",
   "execution_count": 18,
   "metadata": {},
   "outputs": [
    {
     "data": {
      "text/plain": [
       "array([  4.24163669e-01,   1.49593852e-03,   1.43384561e-03, ...,\n",
       "         1.73225522e-03,   2.92004734e-05,   1.25044229e-04], dtype=float32)"
      ]
     },
     "execution_count": 18,
     "metadata": {},
     "output_type": "execute_result"
    }
   ],
   "source": [
    "sims[query_doc_tf_idf]"
   ]
  },
  {
   "cell_type": "code",
   "execution_count": 21,
   "metadata": {},
   "outputs": [
    {
     "data": {
      "text/plain": [
       "0.45268077"
      ]
     },
     "execution_count": 21,
     "metadata": {},
     "output_type": "execute_result"
    }
   ],
   "source": [
    "max(sims[query_doc_tf_idf])"
   ]
  },
  {
   "cell_type": "code",
   "execution_count": 29,
   "metadata": {},
   "outputs": [
    {
     "name": "stdout",
     "output_type": "stream",
     "text": [
      " 最近這一兩年因為露營 逛某幾條老街的次數真的跟走灶腳一樣 除了上一篇的新竹內灣老街外~ http://tinie0810.pixnet.net/blog/post/386490923 往拉拉山必經的大溪老街也成了固定的走跳行程之ㄧ   還記得在前幾年小康家搭上卡打車熱潮時,也曾超熱血的從家挑戰70K到大溪老街來朝聖 但近幾年因懶惰,漸漸懈怠後腿力已大不如前,只能每年趁著淡水天元宮櫻花季時 每年一次的固定車聚,硬著頭皮騎車上山賞花  板橋-大溪老街70K 卡打車之旅 ttp://tinie0810.pixnet.net/blog/post/234735704 2014天元宮車聚 ttp://tinie0810.pixnet.net/blog/post/234735695  大溪老街上巴洛克式老建築真的百看不厭且極具特色   大溪老街除了美食外木雕和陀螺也是一大特色,  看報紙說~老街上的木雕商家一起推出了6台木藝輕便車供遊客邊聽導覽邊遊街  但當天並沒有看到,有些小失望       街上也有推展傳統布袋戲的店家,  當然老街該有的柑仔店.雜貨店.花布店...這裡也應有盡有喔!  除了好玩的~不算長的大溪老街上也有許多好吃的人氣在地美食           除了之前分享過的~里長婆碗粿+黃大目豆乾 ~ http://tinie0810.pixnet.net/blog/post/234735701    原本在黃日香門口的呂媽媽豆花搬到街角來了  無論夏天吃冰豆花或是冷冷的天氣來碗薑汁豆花都超讚 在老街想來碗餐後甜點,可別錯過喔!   除了呂媽媽傳統豆花外 附近這家和風手工豆腐酪也經常是人氣搶搶滾喔! 這家有賣小康媽喜歡的抹茶口味豆腐酪, 和我一樣是抹茶控的朋友一定要吃看看!   原本在巷內的江記古早味花生糖,以前也是老街人氣商家  有去老街的人,多數都會人手一盒!假日排隊的人龍大約都得等上1小時以上  但現在已搬出老街,自成店面,老主顧想吃可要多走幾步路呀!步行過去約5分鐘可達     不管幫到哪裡,生意還是那麼好,排隊的人龍沒停過  這次小康媽趕時間,沒辦法排隊,順手買了一盒不用排隊的麥芽餅,想說拿到營區騙小孩用 一盒8根100元  沒想到~江家的麥芽糖除了做花生糖好吃,連簡單的麥芽餅都甜而不膩且不黏芽 大人/小孩都愛,可以說是幾乎被秒殺呀!   一樣吃糯米腸,小康家比較喜歡原本在巷內江記花生糖對面的\"金字塔三角湯圓.糯米大腸\" 據說這家才是老街糯米腸的正港老店喔!   許多美食節目介紹過 這家店也是小康家到大溪老街想吃正餐時最常到訪的愛店之ㄧ  招牌菜色       糯米腸(小)$80 米粒分明,軟Q好吃,再搭上特製甜辣醬真的超正點  招牌三角湯圓(3顆)$50  吃起來像客家鹹湯圓,但內餡和外表有些微不同   外皮相當Q彈, 包著豬絞肉/香菇/菜圃/油蔥/豆乾....等內餡 超香且不油膩 老實說小康媽並不喜歡吃客家鹹湯圓 但金字塔的三角湯圓卻是少數讓小康媽覺得順口喜愛的    什錦麵$60 用料相當大方澎湃,算是店裡CP值相當高的選擇     滷肉飯$30  餛飩麵$50 餛飩好吃,湯頭也相當好,但餛飩數量不多,只有少少幾顆~吃不過癮啦!          小菜選擇蠻多的,份量也不少,價位也還OK  吃完三角湯圓如果肚子還有容量 附近轉角巷內的百年油飯,也是很厲害的老店   招牌油飯.乾意麵.肉捲.肉羹...全部都來一份  這裡的肉羹~是用瘦肉打成漿做成的,外表並沒有再裹額外多餘的魚漿或粉 所以吃起來相當實在扎實,湯頭也蠻清爽  大受好評的招牌乾意麵 採用自製的雞蛋麵,口感相當Q彈好吃 加上肉片和古早味油蔥醬料~大推!!!  招牌油飯 小康爸很愛吃米糕/油飯這類米食 這家的油飯讓他評鑑在水準之上,但我們一致認為\"乾意麵\"真的超好吃!  令人驚豔的還有這盤肉捲 說實話外觀看起來\"白白地\"感覺好像沒味道,賣相並非太好 但吃起來口感非常豐富好吃~必點!!             龍骨髓湯  四神湯 湯品表現也都不錯,基本上這家店也蠻合小康家味口的 用料實在,口味佳    大溪豆乾在這裡可謂是百家爭鳴 除了小康家最常吃的黃大目外,其他名店也都各有愛好支持者 口味本來就是主觀的,大家就各憑喜好購買囉!  只是~如果你是第一次到大溪老街 關於現滷大溪豆干~小康媽會推薦這家大溪\"老阿伯\"   光看到攤位上琳瑯滿目的滷味 真的口水就不自覺流下來  千萬別因為排隊人潮而退怯 老闆點餐結帳採雙邊夾攻的方式,且手腳超快 所以人潮流動率其實蠻快的    第一次來不知道吃什麼? 建議直接選\"綜合桶\"$120+黃金蛋$50(3顆) 好吃的招牌滷味全部一次到位 怕吃的不夠過癮,就點\"全套\"$265,保證大家一定可以吃得超滿足的!       其實老阿伯最厲害的不只是滷味 而是他們家獨門的特製\"爆辣\"醬料 真的超讚的!光想起來就讓人懷念,唾液不斷分泌!~好想現在就吃到呀!!!!      這家\"正豐米麩\"老店,相信是許多人懷念的童年味道 賣著傳統的爆米香和米麩 現在更搭上霜淇淋熱潮,賣起創意的\"爆米香\"霜淇淋 真的太特別啦!有興趣的朋友可別錯過呦! 地址:大溪鎮中正路30號     最後分享位在正豐米麩旁邊的達摩麵店 這可是一家有50年歷史的老麵店了 招牌切仔麵和小菜是必吃美食 已經下午2點了,客人還是絡繹不絕喔!    如果吃素的朋友,附近三角窗這家陳師兄素肉圓也相當推薦喔!      好吃好玩的大溪老街,你有多久沒來了呢?  桃園附近也有許多順遊景點,找一天好好安排一下吧!    \n"
     ]
    }
   ],
   "source": [
    "print(total_content[np.argmax(sims[query_doc_tf_idf])])"
   ]
  },
  {
   "cell_type": "code",
   "execution_count": 30,
   "metadata": {
    "collapsed": true
   },
   "outputs": [],
   "source": [
    "def getTopSimilar(text, tf_idf):\n",
    "    query_doc = jieba_tokenize(text)\n",
    "    query_doc_bow = dictionary.doc2bow(query_doc)\n",
    "    query_doc_tf_idf = tf_idf[query_doc_bow]\n",
    "    return total_content[np.argmax(sims[query_doc_tf_idf])]"
   ]
  },
  {
   "cell_type": "code",
   "execution_count": 32,
   "metadata": {},
   "outputs": [
    {
     "data": {
      "text/plain": [
       "\"話說把寫過的新竹美食做出一個分類目錄這件事情，我一直想做卻一直偷懶。現在是該整理一下了。當寫著新竹的食記越來越多時，想要讓人家找到自己想找的難度就越來越高，就像我們到了圖書館，怎麼在茫茫的書海中找到自己想找的書，這時候分類目錄索引就很重要了。(竟然把自己的食記硬要想成和圖書館一樣豐富~:P)  \\xa0 \\xa0*新竹美食跟這有什麼關係?\\xa0 而原本應該在部落格分類中直接分出日式、美式、泰式等等，但是當我發現想在目錄去改出新分類真的好麻煩好麻煩，所以這件事就拖了好久。現在改用一點偷懶的方式，就是直接匯整在一篇文章中，我直接簡單的分類讓大家可以快速索引，在透過連結去該篇文章，希望能幫助你快點找到你想吃的店家。(除了吃之外，新竹景點綜合整理懶人包在這!新竹一日遊、二日遊行程安排規畫建議在這!!)所以，就從下面開始吧!有店家收店或是新推薦店家，都歡迎在下面留言通知我喔~~新竹美食分類索引===========================日式料理1.御食堂炭火燒烤2.Gooky Grill 谷奇(二訪、三訪、四訪)3.Moibon 炭火串燒(二訪)4.大叔酒食炭火串燒5.食Sun 和食廚房6.達壽司7.九湯屋日式拉麵8.隅田川日本料理(二訪、三訪)9.博多一幸舍日式拉麵10.品田牧場日式料理11.芙洛麗山日本料理12.元定食日本料理13.魚鮮會社14.源初燒肉15.三日月日本料理16.勝博殿日式豬排17.Azuma 東居酒屋18.漁市大眾食堂19.明園二館20.和幸日本料理21.大和園燒肉22.一番館日式拉麵23.新橋燒肉24.丸雄日式燒肉25.新橋隱酒藏26.明園一館27.新竹竹北光明一路美食。酒肴日式居酒屋28.鮮極日本料理29.新竹金沢(金澤)日式料理。巨城附近東大陸橋旁老師傅好手藝美食30.新竹竹北握壽司日本料理。㐂二壽司處熟成生魚片無菜單料理 31.新竹 Toro 將丼定食堂。份量十足高 CP 值平價日本料理(已經結束營業) 32.新竹鐵釜日式料理。棒球場附近食材用心菜色多樣的美食(二訪)33.新竹大同路私嚐壹。深夜食堂平價串燒炸物居酒屋 34.新竹天尊日式料理。歡慶15周年慶推出 580元超優惠餐點組合35.新竹竹北台灣壹碳烤。獨特醬料搭配多種串燒碳烤選擇\\xa0\\xa0\\xa0 韓式料理 1.新竹新橋韓式烤肉。護城河畔美食烤肉免動手\\xa0泰式料理1.蘭那泰式餐廳(已經結束營業)美式料理(牛排/漢堡)1.Stanley's Steak House 史丹利牛排2.Nola Kitchen 紐澳良小廚3.可里廚房4.Chubby 喜樂美式餐廳5.The BBQ House6.飛翔的魚 7.新竹 The Diner。來自台北的樂子美式漢堡店8.新竹清大夜市平價好吃牛排店。白鬍子厚切牛排\\xa09.新竹愛喀牛原味碳烤美式大牛排。新竹交流道附近的牛排美食 10.新竹公道五腰果花砧板原食料理。低溫烹調簡單調味的好滋味\\xa0\\xa0義式料理1.Mantova Kitchen 曼托瓦義式廚房2.卡千公主百寶宮廷(已經結束營業)3.Brick Works 樂高積木咖啡餐廳(已經結束營業)4.Alleycat's Pizza(已經結束營業)5.托斯卡尼尼6.橋下 Restaurant7.三皇三家8.莫凡彼歐風餐廳9.IF House 一五好事10.舒果蔬食料理11.羅拉朵咖啡12.Ti Amo 義大利窯烤13.Foody Goody14.綠芳園庭園餐廳15.Viola Pizza& Pasta16.Friendy Pizzeria17.番茄咖哩洋食館18.艾蜜奇義大利坊19.咖哩番咖哩料理20.新竹竹北文森餐酒館。朋友聚會部門聚餐好選擇(Vincent's Foods & Drinks)21.新竹關新路上平價美食。常要排隊的洋朵義式廚坊22.新竹竹北鏟子義大利餐廳(La Pala)。手工窯烤星星 Pizza(已經結束營業)23.新竹竹北 Foody Goody。平價美味手工窯烤披薩義大利餐點 24.新竹好市多附近環境舒適美食店家。YATS 葉子(Stay to eat)25.新竹忠孝大潤發對面莫拉諾精品咖啡。咖啡廳中隱藏超棒親子空間 26.新竹竹北風尚人文咖啡館。雜誌多空間寬敞有兒童遊戲空間消夜晚餐皆俱的咖啡館 27.新竹竹北小島咖啡(小島廚房)。咖啡店從早午餐賣到晚餐 28.新竹東南街 224號館創意料理廚房。1000種搭配選擇、份量十足 CP 值高的義式料理29.新竹美食 Maps 藏寶圖異國料理。巨城附近三民路上新打造親子餐廳兒童遊戲空間30.新竹晶品城美食金色三麥。各種口味啤酒都好喝\\xa031.新竹 EISEN Bistro。巨城旁美味好氣氛的餐酒館32.新竹東光路 LA PIOLA 49 義式小館。餐點美味環境明亮舒適大場地可辦講座33.新竹東門城圓環怪怪魔法屋。各種新奇古怪口味創意料理 中式料理1.如意牛肉麵2.竹東市場鴨香飯3.鳳荷三鮮4.富記碗粿5.石家魚丸6.天仁喫茶趣7.北門豬腳大王8.滿美吐司部9.食香客雞會站(已經結束營業)10.城隍廟廟口鴨香飯11.聯合報南園食饌晚宴12.城隍廟小吃13.11街麵食館14.新竹麥的飯舖。巨城附近巷弄中的簡單滋味15.新竹尖石北角。媽媽的店風味餐廳16.新竹城隍廟美食。百年老店阿城號 17.新竹竹東市場食尚玩家推薦美食店家。葉蘭香糯米飯及吳記三姊爆漿黑糖包18.新竹東山街燒餅屋。早上就要排隊的手工現做燒餅19.新竹新豐吳媽媽沙茶咖哩炒麵。來自基隆的好味道20.新竹南大路上好吃手桿蛋餅。新銘早餐店(原大眾早餐店)21.新竹彌月油飯選擇。中央市場林記油飯、東門市場鴨飯油飯22.新竹初鮮魚湯專賣店。新竹台大醫院附近龍膽石斑魚湯23.新竹巨城附近早餐。水哥養生飯糰好滋味好滿足24.新竹西門街上好吃肉圓。廟口肉圓、飛龍肉圓25.新竹高中前超份量美食。阿婆早餐麵店26.新竹竹豐園點心小館。份量十足滿足度一百\\xa027.新竹竹北友食寓。讓人有食欲的好吃簡餐 28.新竹湖口老皮牛肉麵。免費豆花豆漿吃不怕 29.新竹學府路無名饅頭肉排蛋。食尚玩家介紹排隊人氣名店 30.新竹綠芳園美食廣場。環境乾淨舒適近交大、園區及交流道的美食廣場\\xa0\\xa0 \\xa0\\xa0中式合菜1.霸道啤酒屋2.北埔龍鳳饌3.山間堂川湘料理(已經結束營業)4.菜園上海餐廳5.滬園上海湯包(已經結束營業)6.食在巷弄無菜單料理(二訪)7.Yummy 私房料理8.芎林窯烤雞9.婉婉庭園小館10.九芎湖劉家悶雞11.新竹御申園上海料理。新光三越後巷弄裡的美食12.新竹中正路美食。誠食館善食堂無菜單創意料理13.新竹溪州碳烤。讓人意想不到的巷子裡美食 14.新竹寶山好吃又便宜的合菜餐廳。老復興飲食店 15.新竹寶山鑫園客家菜。脆皮豬腳好吃的高 CP 值合菜16.新竹英美食坊。園區正門口附近的平價熱炒17.新竹站前 SOGO 合菜美食。1010湘餐廳 18.新竹台南溫體牛新竹旗艦店。台南每日直送溫體牛肉 19.新竹瑩珍園小館。新竹赫赫有名北京烤鴨酸白菜鍋 20.新竹新埔劉家悶雞。新埔九芎湖邊的知名美食 21.新竹成都川菜。老眷村裡的辣味川菜美食\\xa0\\xa0 \\xa0 \\xa0 \\xa0\\xa0 港式飲茶1.金老爹港式飲茶(二訪)2.京龍港式飲茶3.豐茗樓港式飲茶(二訪)4.珍悅港式點心坊火鍋類1.吳媽小火鍋2.鬼椒一番鍋(竹北光明店)3.芙洛麗元鼎府麻辣火鍋4.岩漿火鍋5.新竹牛老大涮牛肉火鍋。溫體牛肉連鎖店6.鬼椒一番鍋(新竹光復店)7.新竹竹北一心鍋物料理。每天現煮湯頭搭配鑄鐵鍋的好滋味8.新竹粥大王養生粥底火鍋。感受截然不同的火鍋吃法 9.新竹竹北元世祖涮羊肉。牛豬羊海鮮都好吃的精緻鍋物\\xa0 10.新竹竹北火鍋北極熊涮涮鍋。新鮮食材搭配超寬敞空間用餐超舒適\\xa0\\xa0 鐵板燒1.上品苑鐵板燒2.夏慕尼鐵板燒3.新竹洋蔥鐵板新燒。總是有驚喜的專業老師傅主廚4.新竹竹北上雅鐵板燒。精緻的美食饗宴 5.新竹竹北淡泊好食鐵板燒。高 CP 值鐵板燒料理\\xa0\\xa0海鮮類1.第一夯海鮮餐廳2.蚵舉壯元 雲緬/越式料理1.新竹景冬香雲緬小吃。湳雅大潤發附近的好吃米線2.新竹竹北弗薇越式餐廳。精緻豐盛又好吃的越南料理\\xa0  Buffet 吃到飽1.芙洛麗食譜自助百匯印度料理1.花宴印度咖哩甜點冰品飲料1.北埔機車豆花2.阿惠冰店3.河堤上的貓飲料店4.法芙嵐烘培坊5.新竹巨城後面巷弄中的甜點店。Schäfer 希弗德式烘焙坊6.新竹竹北家樂福附近美食。百分百豆花大腸麵線7.新竹阿默蛋糕水田店。品嚐多種蛋糕及彌月蛋糕選擇8.新竹大遠百巷弄中的甜點店。慢慢手作甜點店 9.嗨，貪吃鬼法式點心。新竹竹北下午茶好選擇10.新竹竹北 S.A.W 法式手作甜點。藍帶師傅手工甜點還可吃到美味早午餐 11.新竹新莊街宇治宇治日本茶茶屋。偽裝身處日本享受抹茶甜點\\xa0\\xa0宅在家團購1.Mess Maker 蝦攪和2.Foodpanda 空腹熊貓 3.新竹竹北采軒手工蛋捲。團購美食好選擇 4.新竹小蜜蜂團購公車。有機無毒農產品直送，團購、小量購買皆可送達\\xa0\\xa0 早午餐/下午茶剛剛上面的列表都還沒有寫到早午餐和下午茶類的店家，因為...全部都彙整在這一篇--新竹早午餐加下午茶吃飽飽。=======================以上，簡單的彙整在一起，方便你快速的找尋你想吃的類別，當然分類應該還有繼續改進的機會，等待我充實更多新竹美食再跟大家分享吧!  [延伸閱讀] 新竹科學園區下午茶。園區下午茶綜合懶人包(持續新增中) 新竹旅遊景點綜合懶人包。新竹景點大匯整(持續新增中)  當然也歡迎加入 Facebook 粉絲團，即時追蹤新資訊~^^  Facebook Badge START  觀景窗看世界。美麗無限快來幫我按讚  Facebook Badge END  \""
      ]
     },
     "execution_count": 32,
     "metadata": {},
     "output_type": "execute_result"
    }
   ],
   "source": [
    "getTopSimilar('新竹最好吃的東西是什麼阿？', tf_idf)"
   ]
  },
  {
   "cell_type": "code",
   "execution_count": null,
   "metadata": {
    "collapsed": true
   },
   "outputs": [],
   "source": [
    "getTopSimilar('新竹最好吃的東西是什麼阿？', tf_idf)"
   ]
  }
 ],
 "metadata": {
  "kernelspec": {
   "display_name": "Python 3",
   "language": "python",
   "name": "python3"
  },
  "language_info": {
   "codemirror_mode": {
    "name": "ipython",
    "version": 3
   },
   "file_extension": ".py",
   "mimetype": "text/x-python",
   "name": "python",
   "nbconvert_exporter": "python",
   "pygments_lexer": "ipython3",
   "version": "3.5.2"
  }
 },
 "nbformat": 4,
 "nbformat_minor": 2
}

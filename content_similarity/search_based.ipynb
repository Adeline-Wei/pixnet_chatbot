{
 "cells": [
  {
   "cell_type": "code",
   "execution_count": 1,
   "metadata": {
    "collapsed": true
   },
   "outputs": [],
   "source": [
    "import sys\n",
    "sys.path.append('../../lib/python3.5/site-packages')\n",
    "import re\n",
    "import jieba.analyse\n",
    "import numpy as np\n",
    "import jieba\n",
    "jieba.set_dictionary('dict.txt.big')\n",
    "jieba.analyse.set_stop_words(\"./ch_dont_want_word\")"
   ]
  },
  {
   "cell_type": "code",
   "execution_count": 2,
   "metadata": {
    "collapsed": true
   },
   "outputs": [],
   "source": [
    "from elasticsearch import Elasticsearch\n",
    "import elasticsearch.helpers\n",
    "from datetime import datetime\n",
    "\n",
    "es = Elasticsearch([{'host': '192.168.2.10', 'port': 9200}])"
   ]
  },
  {
   "cell_type": "code",
   "execution_count": 3,
   "metadata": {
    "scrolled": true
   },
   "outputs": [
    {
     "name": "stdout",
     "output_type": "stream",
     "text": [
      "1094 documents found\n"
     ]
    }
   ],
   "source": [
    "# es.get(index=\"pixnet\", doc_type='food', id=2)\n",
    "\n",
    "search_body = \\\n",
    "{\\\n",
    "  \"_source\": [\"title\",\"content\",\"tags\"], \\\n",
    "  \"query\" : {\\\n",
    "    \"bool\": {\\\n",
    "      \"must\": [\\\n",
    "        { \\\n",
    "          \"match\" : { \\\n",
    "            \"content\" : \"台中\"\\\n",
    "          }\\\n",
    "        },\\\n",
    "        { \\\n",
    "          \"match\" : { \\\n",
    "            \"content\" : \"早午餐\"\\\n",
    "          }\\\n",
    "        },\\\n",
    "#         { \\\n",
    "#           \"match\" : { \\\n",
    "#             \"tags\" : \"夜\"\\\n",
    "#           }\\\n",
    "#         }\\\n",
    "      ],\\\n",
    "#       \"filter\": \\\n",
    "#         [\\\n",
    "#           {\\\n",
    "#             \"term\": {\\\n",
    "#               \"tags.keyword\": {\\\n",
    "#                 \"value\": \"新竹\"\\\n",
    "#               }\\\n",
    "#             }\\\n",
    "#           },\\\n",
    "#           {\\\n",
    "#             \"term\": {\\\n",
    "#               \"tags.keyword\": {\\\n",
    "#                 \"value\": \"宵夜\"\\\n",
    "#               }\\\n",
    "#             }\\\n",
    "#           }\\\n",
    "#         ]\\\n",
    "    }\\\n",
    "  }\\\n",
    "}\n",
    "# Take top 10\n",
    "res = es.search(index=\"pixnet\", doc_type=\"food\", body= search_body)\n",
    "print(\"%d documents found\" % res['hits']['total'])\n",
    "# for i, match in enumerate(res['hits']['hits']):\n",
    "#     print(\"Top.{} Match\\nScore : {}\\nTitle : {}\\nContent : {}\\n\\n\".format(i, match['_score'], match['_source']['title'], match['_source']['content']))\n",
    "#     break"
   ]
  },
  {
   "cell_type": "code",
   "execution_count": 4,
   "metadata": {},
   "outputs": [
    {
     "name": "stdout",
     "output_type": "stream",
     "text": [
      "9597\n"
     ]
    }
   ],
   "source": [
    "# Take all result\n",
    "docs = list(elasticsearch.helpers.scan(es, index=\"pixnet\", doc_type='food'))\n",
    "total_content = [(doc['_id'],doc['_source'].get('content')) for doc in docs]\n",
    "print(len(total_content))"
   ]
  },
  {
   "cell_type": "markdown",
   "metadata": {
    "collapsed": true
   },
   "source": [
    "## Query Emotion"
   ]
  },
  {
   "cell_type": "code",
   "execution_count": 5,
   "metadata": {
    "collapsed": true
   },
   "outputs": [],
   "source": [
    "import urllib.request\n",
    "import json"
   ]
  },
  {
   "cell_type": "code",
   "execution_count": 6,
   "metadata": {
    "collapsed": true
   },
   "outputs": [],
   "source": [
    "texts_list = total_content[0][1].split('。')"
   ]
  },
  {
   "cell_type": "code",
   "execution_count": 7,
   "metadata": {},
   "outputs": [
    {
     "data": {
      "text/plain": [
       "{'data': [{'message': '說起最近高雄地區新開火紅的早午餐店，這間沐濛一定榜上有名，因為餐點份量大、價格實惠，十分受到好評'},\n",
       "  {'message': '之前有在一些文章提過，高雄知名的早午餐店我也不是不想吃，只是一週唯一只有禮拜天可以睡到自然醒的我，每次睡醒加上懶懶的東摸西摸一下，可以出門的時間都已經接近中午了，而且也沒動力大老遠跑去一些大排長龍的名店朝聖，對我來說週末就是要懶散到底，別說還要訂位趕時間之類的，饒了我吧！\\xa0所以週末比較常就近在鳳山隨便吃一吃，不然就是去我最愛的故事鍋物館吃涮涮鍋'},\n",
       "  {'message': '這回發現沐濛離鳳山不遠ㄟ，其實跟常跑的文山特區距離差不多而已，好吧，不吃則已，要吃我就來衝第一吧！就這樣，週末的營業時間前，我們在店門口出現囉！（一定要這麼極端嗎？\\xa0）時間到，沐濛準時開店囉～！上頭招牌好大片的木板上，只有小小的店名，很特別的設計，店外地板則是黑色鐵板，偏向工業風，黑色窗框外觀沉穩又時尚'},\n",
       "  {'message': '裡面座位不多，還好有跑第一名，不然就沒辦法拍到這畫面啦！這家店最讓我喜歡的，是磚牆上這些畫框和鏡子，畫框裡有的沒有畫，選擇留白，鏡子裡的倒影，真真假假，虛幻難辨'},\n",
       "  {'message': '\\xa0因為是第一組到的客人，第一位店員對我們十分禮貌殷勤，馬上送上菜單～菜單設計的質感不錯，特別訂製的硬皮'},\n",
       "  {'message': '以下菜單是從 Moment 沐濛 的官方粉絲團借圖來的～（※後來寫文的時候發現，我們現場看到的菜單品項，和臉書上菜單的版本有一點點不一樣，菜色有增減，請以現場店家提供為主，本菜單僅供參考※）點這一頁早午餐組合是最划算的，都有附飲料喝到飽（冰熱紅茶、熱美式咖啡、經典早餐茶）'},\n",
       "  {'message': '江湖上（？）傳言捲餅很好吃，但我們還沒吃過'},\n",
       "  {'message': '這一頁蒜辣炒小管很吸引我，但是他們家餐點份量頗大，通常一個人一個餐就能吃飽，還沒機會點到這邊來'},\n",
       "  {'message': '義大利麵最貴不超過＄200，只是選擇不多就是'},\n",
       "  {'message': '吸引我們來的重要理由之一，就是有美式漢堡'},\n",
       "  {'message': '兒童餐，就是份量小一點，還有用可愛的卡通餐具'},\n",
       "  {'message': '也有販售酒精飲品，所以～喝酒不開車，未成年請勿飲酒囉！我們點了一個美式蛋捲─爆料恩力，還有一個嫩烤萊姆雞三明治，本來還要再點一個經典原味牛肉堡的，但是店員說牛肉原料要接近中午才會送到，但我們進門點餐那時才9點，所以就......算了！後來覺得真的還好沒有點到那漢堡，因為真的光是兩個餐就能吃很飽了'},\n",
       "  {'message': '一點了餐，店員馬上給我們一張紙條，上面是手寫的WiFi密碼，也太貼心了吧！！！\\xa0但是這僅只有第一次一早到訪，我們觀察過，後來的其他桌客人，或者我們第二次再訪，別的服務人員就沒有這麼積極主動貼心囉！包括其他方面的服務，像給飲料、倒茶也是，不是每個人員都很積極'},\n",
       "  {'message': '沐濛一大特點就是食材嚴選，麵包採用高雄有名的莎士比亞烘焙坊，冰塊不用外叫的，自己購買RO逆滲透純水製冰機，衛生要求頗高'},\n",
       "  {'message': '首先會送上檸檬水，這裡的檸檬水，可不是印象中的淡如水，是真的濃到會酸的程度，又冰涼，如果喜歡檸檬水的人，有這個其實不太需要點飲料了我覺得'},\n",
       "  {'message': '這裡給飲料的方式很不一樣，我也是第二次來才搞懂，原來我們點的食尚黑盤早午餐組合─爆料恩力，才有提供紅茶喝到飽，而另一個三明治餐，只有提供一杯，不能續杯'},\n",
       "  {'message': '我還以為是都有提供喝到飽的，後來某 K 才說他有觀察發現，雖然服務人員會主動來幫忙加紅茶續杯，但是一直只幫我們續一個杯子而已'},\n",
       "  {'message': '嫩烤萊姆雞三明治＄180麵包可以選脆皮土司、巧巴達或者佛卡夏，我們選了某 K 的最愛，英式脆皮土司'},\n",
       "  {'message': '一上桌有被大量的薯條嚇到，真的是吃過那麼多早午餐、美式漢堡，第一次見到給這麼多薯條的，因為我們是第一個上門的客人，薯條理所當然的現炸，又熱又脆口，好吃，但兩個人吃都嫌多'},\n",
       "  {'message': '\\xa0側面可以看到清楚的層次，土司口感好，黃色的蛋皮、紅色的番茄、綠色的生菜，還有多汁滑嫩的雞腿肉，整體吃起來飽嘴但又清爽，一咬下還有水份流出來呢！雞腿排微酸的調味恰到好處'},\n",
       "  {'message': '爆料恩力＄200佔了半個盤面的超大歐姆蛋捲，一上桌就帶來震撼！\\xa0內容包括時蔬溫沙拉、起司恩力蛋捲、碳烤丹麥布丁土司'},\n",
       "  {'message': '沙拉裡面有些蔬菜是清燙過的，甜椒和四季豆都很爽脆多汁，我還蠻喜歡的'},\n",
       "  {'message': '碳烤丹麥布丁土司烤的火侯夠，吃起來酥酥的，我覺得有一點點油，不過口感是好吃的，重點是也不大塊啦，一人一片幾口就沒了'},\n",
       "  {'message': '爆料恩力蛋捲裡面真的有很多料，熱狗、洋蔥、玉米、秀珍菇、甜椒、起司、番茄......，裡面充滿蔬菜水份，可惜它的狀態不是濃濃的蛋汁和內餡融合在一起的口感，比較偏向一張有厚度、滑嫩的大蛋皮，把豐富的內餡包在裡面，味道還不錯'},\n",
       "  {'message': '起司也給的十分大方'},\n",
       "  {'message': '用餐完畢之後還會送上濕紙巾'},\n",
       "  {'message': '第一次用餐感覺很不錯，物有所值，地點又不遠，可惜沒吃到漢堡，所以後來又找一天晚上來了！為了想吃到漢堡，還有嘗試看看義大利麵'},\n",
       "  {'message': '這次點了漢堡餐和義大利麵，一樣有給一杯紅茶，但是就不能續杯了，我搞不清楚還跟店員要求續杯XD，店員解釋了我們點的餐沒提供紅茶續杯，不過還是多送了一杯給我喝，金感恩！\\xa0（其實這張照片的重點是一位滑手機滑不停的低頭族男輪！）鮮味青醬嫩雞義大利麵＄200義大利麵裡的料有雞腿肉、甜椒、洋蔥、玉米，這個組合讓我覺得有點台 XD 但是青醬的口味不錯，不油膩，雞肉很嫩'},\n",
       "  {'message': '可惜麵條偏軟了一些些，如果再更硬一點我會更喜歡'},\n",
       "  {'message': '整體來說這道義大利麵算是普通，可以吃，但說不上美味'},\n",
       "  {'message': '經典原味牛肉堡＄200等了算蠻久的，漢堡終於送來了'},\n",
       "  {'message': '詭異的是，漢堡餐的薯條反而數量有點稀稀落落？我懷疑上次因為我們是第一組客人才有給這麼多薯條'},\n",
       "  {'message': '漢堡的賣相很不錯，油油亮亮看起來就好吃款的麵包，兩條培根爆出來，和塞滿滿的生菜、漢堡肉'},\n",
       "  {'message': '培根的底下還有起司片，但起司片沒有融化，可見食物溫度不夠'},\n",
       "  {'message': '\\xa0一咬下去果然不是熱騰騰的，雖然麵包是有彈性的、培根是好吃的、漢堡排是好吃的、生菜也是鮮脆的，但因為整體溫度不夠，沒辦法讓起司融化（照片裡可以很清楚看到），整體沒有結合在一起的感覺，等了這麼久送出來的東西不是熱的，有點囧......\\xa0如果在料理加熱的順序和時間上，可以掌握的更到位一些，相信這個漢堡是會更完美的'},\n",
       "  {'message': '第一次來的時候外面沒有這水生植物盆栽，第二次才看到，還挺可愛的'},\n",
       "  {'message': '整體來說，沐濛是價格一般合理水準、份量比別人大、口味也不錯的早午餐店，早午餐、三明治都好吃，漢堡和義大利麵有些小地方可以更精進，店面小小的、座位不多，假日可能要訂位比較好（或者像我們第一名報到）'},\n",
       "  {'message': '\\xa0高雄早午餐、漢堡推薦！↓↓↓以下點圖可以進入閱讀文章喔！↓↓↓The Way 菋 全日早午餐 美式漢堡 飲品│意外驚豔噴汁漢堡！Mars Cube 睦工場│結合藝文與工業風的咖啡館瑪列.巴黎味│時尚貴婦風 法式早午餐(瑪列.小巴黎商人 二店)多力廚坊│便宜好吃超高C/P值美式漢堡\\n\\nMoment 沐濛 創意美式、爵士、全日早午餐地址：高雄市三民區民孝路45號電話：07-3818061臉書 https://www.facebook.com/MOMENT803檢視較大的地圖\\xa0\\n\\xa0\\n\\xa0\\n \\xa0'}]}"
      ]
     },
     "execution_count": 7,
     "metadata": {},
     "output_type": "execute_result"
    }
   ],
   "source": [
    "query = {\"data\":[]}\n",
    "for text in texts_list:\n",
    "    query[\"data\"].append({\"message\":text})\n",
    "query"
   ]
  },
  {
   "cell_type": "code",
   "execution_count": 8,
   "metadata": {
    "collapsed": true
   },
   "outputs": [],
   "source": [
    "header={'Content-Type': 'application/json'}\n",
    "req = urllib.request.Request(url='http://192.168.2.100:5678/chuck/couple_all', headers=header, method='POST')\n",
    "query_str = json.dumps(query)\n"
   ]
  },
  {
   "cell_type": "code",
   "execution_count": 9,
   "metadata": {
    "collapsed": true
   },
   "outputs": [],
   "source": [
    "res = urllib.request.urlopen(req, query_str.encode())\n",
    "res_json = json.loads(res.read().decode())"
   ]
  },
  {
   "cell_type": "code",
   "execution_count": 10,
   "metadata": {},
   "outputs": [
    {
     "data": {
      "text/plain": [
       "{'angry': {'content': ['這一頁蒜辣炒小管很吸引我，但是他們家餐點份量頗大，通常一個人一個餐就能吃飽，還沒機會點到這邊來',\n",
       "   '吸引我們來的重要理由之一，就是有美式漢堡',\n",
       "   '一點了餐，店員馬上給我們一張紙條，上面是手寫的WiFi密碼，也太貼心了吧！！！\\xa0但是這僅只有第一次一早到訪，我們觀察過，後來的其他桌客人，或者我們第二次再訪，別的服務人員就沒有這麼積極主動貼心囉！包括其他方面的服務，像給飲料、倒茶也是，不是每個人員都很積極',\n",
       "   '首先會送上檸檬水，這裡的檸檬水，可不是印象中的淡如水，是真的濃到會酸的程度，又冰涼，如果喜歡檸檬水的人，有這個其實不太需要點飲料了我覺得',\n",
       "   '\\xa0側面可以看到清楚的層次，土司口感好，黃色的蛋皮、紅色的番茄、綠色的生菜，還有多汁滑嫩的雞腿肉，整體吃起來飽嘴但又清爽，一咬下還有水份流出來呢！雞腿排微酸的調味恰到好處'],\n",
       "  'count': 5},\n",
       " 'haha': {'content': ['裡面座位不多，還好有跑第一名，不然就沒辦法拍到這畫面啦！這家店最讓我喜歡的，是磚牆上這些畫框和鏡子，畫框裡有的沒有畫，選擇留白，鏡子裡的倒影，真真假假，虛幻難辨',\n",
       "   '\\xa0因為是第一組到的客人，第一位店員對我們十分禮貌殷勤，馬上送上菜單～菜單設計的質感不錯，特別訂製的硬皮',\n",
       "   '義大利麵最貴不超過＄200，只是選擇不多就是',\n",
       "   '兒童餐，就是份量小一點，還有用可愛的卡通餐具',\n",
       "   '這裡給飲料的方式很不一樣，我也是第二次來才搞懂，原來我們點的食尚黑盤早午餐組合─爆料恩力，才有提供紅茶喝到飽，而另一個三明治餐，只有提供一杯，不能續杯',\n",
       "   '用餐完畢之後還會送上濕紙巾',\n",
       "   '整體來說這道義大利麵算是普通，可以吃，但說不上美味',\n",
       "   '經典原味牛肉堡＄200等了算蠻久的，漢堡終於送來了'],\n",
       "  'count': 8},\n",
       " 'love': {'content': ['江湖上（？）傳言捲餅很好吃，但我們還沒吃過', '起司也給的十分大方'], 'count': 2},\n",
       " 'sad': {'content': ['爆料恩力＄200佔了半個盤面的超大歐姆蛋捲，一上桌就帶來震撼！\\xa0內容包括時蔬溫沙拉、起司恩力蛋捲、碳烤丹麥布丁土司',\n",
       "   '沙拉裡面有些蔬菜是清燙過的，甜椒和四季豆都很爽脆多汁，我還蠻喜歡的',\n",
       "   '可惜麵條偏軟了一些些，如果再更硬一點我會更喜歡'],\n",
       "  'count': 3},\n",
       " 'wow': {'content': ['說起最近高雄地區新開火紅的早午餐店，這間沐濛一定榜上有名，因為餐點份量大、價格實惠，十分受到好評',\n",
       "   '我還以為是都有提供喝到飽的，後來某 K 才說他有觀察發現，雖然服務人員會主動來幫忙加紅茶續杯，但是一直只幫我們續一個杯子而已',\n",
       "   '一上桌有被大量的薯條嚇到，真的是吃過那麼多早午餐、美式漢堡，第一次見到給這麼多薯條的，因為我們是第一個上門的客人，薯條理所當然的現炸，又熱又脆口，好吃，但兩個人吃都嫌多',\n",
       "   '碳烤丹麥布丁土司烤的火侯夠，吃起來酥酥的，我覺得有一點點油，不過口感是好吃的，重點是也不大塊啦，一人一片幾口就沒了',\n",
       "   '爆料恩力蛋捲裡面真的有很多料，熱狗、洋蔥、玉米、秀珍菇、甜椒、起司、番茄......，裡面充滿蔬菜水份，可惜它的狀態不是濃濃的蛋汁和內餡融合在一起的口感，比較偏向一張有厚度、滑嫩的大蛋皮，把豐富的內餡包在裡面，味道還不錯',\n",
       "   '第一次用餐感覺很不錯，物有所值，地點又不遠，可惜沒吃到漢堡，所以後來又找一天晚上來了！為了想吃到漢堡，還有嘗試看看義大利麵',\n",
       "   '詭異的是，漢堡餐的薯條反而數量有點稀稀落落？我懷疑上次因為我們是第一組客人才有給這麼多薯條',\n",
       "   '漢堡的賣相很不錯，油油亮亮看起來就好吃款的麵包，兩條培根爆出來，和塞滿滿的生菜、漢堡肉',\n",
       "   '整體來說，沐濛是價格一般合理水準、份量比別人大、口味也不錯的早午餐店，早午餐、三明治都好吃，漢堡和義大利麵有些小地方可以更精進，店面小小的、座位不多，假日可能要訂位比較好（或者像我們第一名報到）'],\n",
       "  'count': 9}}"
      ]
     },
     "execution_count": 10,
     "metadata": {},
     "output_type": "execute_result"
    }
   ],
   "source": [
    "emotion_dict = {'wow':{'count':0, 'content':[]},\n",
    "                'love':{'count':0, 'content':[]},\n",
    "                'haha':{'count':0, 'content':[]},\n",
    "                'sad':{'count':0, 'content':[]},\n",
    "                'angry':{'count':0, 'content':[]}}\n",
    "for sentence_res in res_json['data']:\n",
    "    if sentence_res['ambiguous']!= True:\n",
    "        if sentence_res['emotion1'] == 'angry':\n",
    "            if sentence_res['emotion2'] == 'haha' or sentence_res['emotion2'] == 'love': continue\n",
    "            \n",
    "        emotion_dict[sentence_res['emotion1']]['count'] = emotion_dict[sentence_res['emotion1']]['count'] +1\n",
    "        emotion_dict[sentence_res['emotion1']]['content'].append(sentence_res['message'])\n",
    "emotion_dict"
   ]
  },
  {
   "cell_type": "code",
   "execution_count": 11,
   "metadata": {
    "scrolled": false
   },
   "outputs": [
    {
     "data": {
      "text/plain": [
       "{'data': [{'ambiguous': False,\n",
       "   'emotion1': 'wow',\n",
       "   'emotion2': 'sad',\n",
       "   'location': 'NA',\n",
       "   'message': '說起最近高雄地區新開火紅的早午餐店，這間沐濛一定榜上有名，因為餐點份量大、價格實惠，十分受到好評'},\n",
       "  {'ambiguous': False,\n",
       "   'emotion1': 'haha',\n",
       "   'emotion2': 'angry',\n",
       "   'location': 'NA',\n",
       "   'message': '裡面座位不多，還好有跑第一名，不然就沒辦法拍到這畫面啦！這家店最讓我喜歡的，是磚牆上這些畫框和鏡子，畫框裡有的沒有畫，選擇留白，鏡子裡的倒影，真真假假，虛幻難辨'},\n",
       "  {'ambiguous': False,\n",
       "   'emotion1': 'haha',\n",
       "   'emotion2': 'wow',\n",
       "   'location': 'NA',\n",
       "   'message': '\\xa0因為是第一組到的客人，第一位店員對我們十分禮貌殷勤，馬上送上菜單～菜單設計的質感不錯，特別訂製的硬皮'},\n",
       "  {'ambiguous': False,\n",
       "   'emotion1': 'angry',\n",
       "   'emotion2': 'haha',\n",
       "   'location': 'NA',\n",
       "   'message': '以下菜單是從 Moment 沐濛 的官方粉絲團借圖來的～（※後來寫文的時候發現，我們現場看到的菜單品項，和臉書上菜單的版本有一點點不一樣，菜色有增減，請以現場店家提供為主，本菜單僅供參考※）點這一頁早午餐組合是最划算的，都有附飲料喝到飽（冰熱紅茶、熱美式咖啡、經典早餐茶）'},\n",
       "  {'ambiguous': False,\n",
       "   'emotion1': 'love',\n",
       "   'emotion2': 'wow',\n",
       "   'location': 'NA',\n",
       "   'message': '江湖上（？）傳言捲餅很好吃，但我們還沒吃過'},\n",
       "  {'ambiguous': False,\n",
       "   'emotion1': 'angry',\n",
       "   'emotion2': 'sad',\n",
       "   'location': 'NA',\n",
       "   'message': '這一頁蒜辣炒小管很吸引我，但是他們家餐點份量頗大，通常一個人一個餐就能吃飽，還沒機會點到這邊來'},\n",
       "  {'ambiguous': False,\n",
       "   'emotion1': 'haha',\n",
       "   'emotion2': 'wow',\n",
       "   'location': 'NA',\n",
       "   'message': '義大利麵最貴不超過＄200，只是選擇不多就是'},\n",
       "  {'ambiguous': False,\n",
       "   'emotion1': 'angry',\n",
       "   'emotion2': 'wow',\n",
       "   'location': 'NA',\n",
       "   'message': '吸引我們來的重要理由之一，就是有美式漢堡'},\n",
       "  {'ambiguous': False,\n",
       "   'emotion1': 'haha',\n",
       "   'emotion2': 'love',\n",
       "   'location': 'NA',\n",
       "   'message': '兒童餐，就是份量小一點，還有用可愛的卡通餐具'},\n",
       "  {'ambiguous': False,\n",
       "   'emotion1': 'angry',\n",
       "   'emotion2': 'wow',\n",
       "   'location': 'NA',\n",
       "   'message': '一點了餐，店員馬上給我們一張紙條，上面是手寫的WiFi密碼，也太貼心了吧！！！\\xa0但是這僅只有第一次一早到訪，我們觀察過，後來的其他桌客人，或者我們第二次再訪，別的服務人員就沒有這麼積極主動貼心囉！包括其他方面的服務，像給飲料、倒茶也是，不是每個人員都很積極'},\n",
       "  {'ambiguous': False,\n",
       "   'emotion1': 'angry',\n",
       "   'emotion2': 'haha',\n",
       "   'location': 'NA',\n",
       "   'message': '沐濛一大特點就是食材嚴選，麵包採用高雄有名的莎士比亞烘焙坊，冰塊不用外叫的，自己購買RO逆滲透純水製冰機，衛生要求頗高'},\n",
       "  {'ambiguous': False,\n",
       "   'emotion1': 'angry',\n",
       "   'emotion2': 'wow',\n",
       "   'location': 'NA',\n",
       "   'message': '首先會送上檸檬水，這裡的檸檬水，可不是印象中的淡如水，是真的濃到會酸的程度，又冰涼，如果喜歡檸檬水的人，有這個其實不太需要點飲料了我覺得'},\n",
       "  {'ambiguous': False,\n",
       "   'emotion1': 'haha',\n",
       "   'emotion2': 'wow',\n",
       "   'location': 'NA',\n",
       "   'message': '這裡給飲料的方式很不一樣，我也是第二次來才搞懂，原來我們點的食尚黑盤早午餐組合─爆料恩力，才有提供紅茶喝到飽，而另一個三明治餐，只有提供一杯，不能續杯'},\n",
       "  {'ambiguous': False,\n",
       "   'emotion1': 'wow',\n",
       "   'emotion2': 'haha',\n",
       "   'location': 'NA',\n",
       "   'message': '我還以為是都有提供喝到飽的，後來某 K 才說他有觀察發現，雖然服務人員會主動來幫忙加紅茶續杯，但是一直只幫我們續一個杯子而已'},\n",
       "  {'ambiguous': False,\n",
       "   'emotion1': 'angry',\n",
       "   'emotion2': 'haha',\n",
       "   'location': 'NA',\n",
       "   'message': '嫩烤萊姆雞三明治＄180麵包可以選脆皮土司、巧巴達或者佛卡夏，我們選了某 K 的最愛，英式脆皮土司'},\n",
       "  {'ambiguous': False,\n",
       "   'emotion1': 'wow',\n",
       "   'emotion2': 'angry',\n",
       "   'location': 'NA',\n",
       "   'message': '一上桌有被大量的薯條嚇到，真的是吃過那麼多早午餐、美式漢堡，第一次見到給這麼多薯條的，因為我們是第一個上門的客人，薯條理所當然的現炸，又熱又脆口，好吃，但兩個人吃都嫌多'},\n",
       "  {'ambiguous': False,\n",
       "   'emotion1': 'angry',\n",
       "   'emotion2': 'wow',\n",
       "   'location': 'NA',\n",
       "   'message': '\\xa0側面可以看到清楚的層次，土司口感好，黃色的蛋皮、紅色的番茄、綠色的生菜，還有多汁滑嫩的雞腿肉，整體吃起來飽嘴但又清爽，一咬下還有水份流出來呢！雞腿排微酸的調味恰到好處'},\n",
       "  {'ambiguous': False,\n",
       "   'emotion1': 'sad',\n",
       "   'emotion2': 'wow',\n",
       "   'location': 'NA',\n",
       "   'message': '爆料恩力＄200佔了半個盤面的超大歐姆蛋捲，一上桌就帶來震撼！\\xa0內容包括時蔬溫沙拉、起司恩力蛋捲、碳烤丹麥布丁土司'},\n",
       "  {'ambiguous': False,\n",
       "   'emotion1': 'sad',\n",
       "   'emotion2': 'wow',\n",
       "   'location': 'NA',\n",
       "   'message': '沙拉裡面有些蔬菜是清燙過的，甜椒和四季豆都很爽脆多汁，我還蠻喜歡的'},\n",
       "  {'ambiguous': False,\n",
       "   'emotion1': 'wow',\n",
       "   'emotion2': 'haha',\n",
       "   'location': 'NA',\n",
       "   'message': '碳烤丹麥布丁土司烤的火侯夠，吃起來酥酥的，我覺得有一點點油，不過口感是好吃的，重點是也不大塊啦，一人一片幾口就沒了'},\n",
       "  {'ambiguous': False,\n",
       "   'emotion1': 'wow',\n",
       "   'emotion2': 'haha',\n",
       "   'location': 'NA',\n",
       "   'message': '爆料恩力蛋捲裡面真的有很多料，熱狗、洋蔥、玉米、秀珍菇、甜椒、起司、番茄......，裡面充滿蔬菜水份，可惜它的狀態不是濃濃的蛋汁和內餡融合在一起的口感，比較偏向一張有厚度、滑嫩的大蛋皮，把豐富的內餡包在裡面，味道還不錯'},\n",
       "  {'ambiguous': False,\n",
       "   'emotion1': 'love',\n",
       "   'emotion2': 'angry',\n",
       "   'location': 'NA',\n",
       "   'message': '起司也給的十分大方'},\n",
       "  {'ambiguous': False,\n",
       "   'emotion1': 'haha',\n",
       "   'emotion2': 'angry',\n",
       "   'location': 'NA',\n",
       "   'message': '用餐完畢之後還會送上濕紙巾'},\n",
       "  {'ambiguous': False,\n",
       "   'emotion1': 'wow',\n",
       "   'emotion2': 'haha',\n",
       "   'location': 'NA',\n",
       "   'message': '第一次用餐感覺很不錯，物有所值，地點又不遠，可惜沒吃到漢堡，所以後來又找一天晚上來了！為了想吃到漢堡，還有嘗試看看義大利麵'},\n",
       "  {'ambiguous': False,\n",
       "   'emotion1': 'sad',\n",
       "   'emotion2': 'haha',\n",
       "   'location': 'NA',\n",
       "   'message': '可惜麵條偏軟了一些些，如果再更硬一點我會更喜歡'},\n",
       "  {'ambiguous': False,\n",
       "   'emotion1': 'haha',\n",
       "   'emotion2': 'angry',\n",
       "   'location': 'NA',\n",
       "   'message': '整體來說這道義大利麵算是普通，可以吃，但說不上美味'},\n",
       "  {'ambiguous': False,\n",
       "   'emotion1': 'haha',\n",
       "   'emotion2': 'wow',\n",
       "   'location': 'NA',\n",
       "   'message': '經典原味牛肉堡＄200等了算蠻久的，漢堡終於送來了'},\n",
       "  {'ambiguous': False,\n",
       "   'emotion1': 'wow',\n",
       "   'emotion2': 'haha',\n",
       "   'location': 'NA',\n",
       "   'message': '詭異的是，漢堡餐的薯條反而數量有點稀稀落落？我懷疑上次因為我們是第一組客人才有給這麼多薯條'},\n",
       "  {'ambiguous': False,\n",
       "   'emotion1': 'wow',\n",
       "   'emotion2': 'haha',\n",
       "   'location': 'NA',\n",
       "   'message': '漢堡的賣相很不錯，油油亮亮看起來就好吃款的麵包，兩條培根爆出來，和塞滿滿的生菜、漢堡肉'},\n",
       "  {'ambiguous': False,\n",
       "   'emotion1': 'angry',\n",
       "   'emotion2': 'haha',\n",
       "   'location': 'NA',\n",
       "   'message': '培根的底下還有起司片，但起司片沒有融化，可見食物溫度不夠'},\n",
       "  {'ambiguous': False,\n",
       "   'emotion1': 'angry',\n",
       "   'emotion2': 'haha',\n",
       "   'location': 'NA',\n",
       "   'message': '第一次來的時候外面沒有這水生植物盆栽，第二次才看到，還挺可愛的'},\n",
       "  {'ambiguous': False,\n",
       "   'emotion1': 'wow',\n",
       "   'emotion2': 'angry',\n",
       "   'location': 'NA',\n",
       "   'message': '整體來說，沐濛是價格一般合理水準、份量比別人大、口味也不錯的早午餐店，早午餐、三明治都好吃，漢堡和義大利麵有些小地方可以更精進，店面小小的、座位不多，假日可能要訂位比較好（或者像我們第一名報到）'}]}"
      ]
     },
     "execution_count": 11,
     "metadata": {},
     "output_type": "execute_result"
    }
   ],
   "source": [
    "res_json"
   ]
  },
  {
   "cell_type": "code",
   "execution_count": 13,
   "metadata": {},
   "outputs": [
    {
     "data": {
      "text/plain": [
       "8270"
      ]
     },
     "execution_count": 13,
     "metadata": {},
     "output_type": "execute_result"
    }
   ],
   "source": [
    "total_content[0][0]"
   ]
  },
  {
   "cell_type": "markdown",
   "metadata": {},
   "source": [
    "## Update Elasticsearch"
   ]
  },
  {
   "cell_type": "code",
   "execution_count": 22,
   "metadata": {},
   "outputs": [
    {
     "data": {
      "text/plain": [
       "{'_id': '8270',\n",
       " '_index': 'pixnet',\n",
       " '_shards': {'failed': 0, 'successful': 1, 'total': 1},\n",
       " '_type': 'food',\n",
       " '_version': 18,\n",
       " 'result': 'updated'}"
      ]
     },
     "execution_count": 22,
     "metadata": {},
     "output_type": "execute_result"
    }
   ],
   "source": [
    "es.update(index='pixnet', doc_type='food', id=total_content[0][0], body={\"doc\": {\"emotion\": emotion_dict}})"
   ]
  }
 ],
 "metadata": {
  "kernelspec": {
   "display_name": "Python 3",
   "language": "python",
   "name": "python3"
  },
  "language_info": {
   "codemirror_mode": {
    "name": "ipython",
    "version": 3
   },
   "file_extension": ".py",
   "mimetype": "text/x-python",
   "name": "python",
   "nbconvert_exporter": "python",
   "pygments_lexer": "ipython3",
   "version": "3.5.2"
  }
 },
 "nbformat": 4,
 "nbformat_minor": 2
}
